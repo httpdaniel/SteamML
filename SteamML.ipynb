{
 "cells": [
  {
   "cell_type": "markdown",
   "metadata": {},
   "source": [
    "## Import packages"
   ]
  },
  {
   "cell_type": "code",
   "execution_count": 3,
   "metadata": {},
   "outputs": [],
   "source": [
    "import json_lines\n",
    "import pandas as pd\n",
    "import json"
   ]
  },
  {
   "cell_type": "markdown",
   "metadata": {},
   "source": [
    "## Parse JSON"
   ]
  },
  {
   "cell_type": "code",
   "execution_count": 4,
   "metadata": {},
   "outputs": [],
   "source": [
    "parsed_reviews = []\n",
    "with open ('data/steam_reviews.jl', 'rb') as f:\n",
    "    for item in json_lines.reader(f):\n",
    "        review = {\n",
    "            'Review': item['text'],\n",
    "            'Recommended': item['voted_up'],\n",
    "            'Early Access': item['early_access']\n",
    "        }\n",
    "        parsed_reviews.append(review)\n",
    "        \n",
    "reviews = json.dumps(parsed_reviews, indent=4)\n",
    "df = pd.read_json(reviews)\n",
    "df.to_csv('data/reviews.csv', index=False, encoding='utf-8')"
   ]
  }
 ],
 "metadata": {
  "kernelspec": {
   "display_name": "Python 3",
   "language": "python",
   "name": "python3"
  },
  "language_info": {
   "codemirror_mode": {
    "name": "ipython",
    "version": 3
   },
   "file_extension": ".py",
   "mimetype": "text/x-python",
   "name": "python",
   "nbconvert_exporter": "python",
   "pygments_lexer": "ipython3",
   "version": "3.8.3"
  }
 },
 "nbformat": 4,
 "nbformat_minor": 4
}
